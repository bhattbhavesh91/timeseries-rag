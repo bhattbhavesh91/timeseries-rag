{
  "cells": [
    {
      "cell_type": "markdown",
      "id": "db0855d0",
      "metadata": {
        "id": "db0855d0"
      },
      "source": [
        "# Timescale Vector Store (PostgreSQL)\n",
        "\n",
        "\n",
        "## What is Timescale Vector?\n",
        "**[Timescale Vector](https://www.timescale.com/ai) is PostgreSQL++ for AI applications.**\n",
        "\n",
        "Timescale Vector enables you to efficiently store and query millions of vector embeddings in `PostgreSQL`.\n",
        "- Enhances `pgvector` with faster and more accurate similarity search on millions of vectors via DiskANN inspired indexing algorithm.\n",
        "- Enables fast time-based vector search via automatic time-based partitioning and indexing.\n",
        "- Provides a familiar SQL interface for querying vector embeddings and relational data.\n",
        "\n",
        "Timescale Vector scales with you from POC to production:\n",
        "- Simplifies operations by enabling you to store relational metadata, vector embeddings, and time-series data in a single database.\n",
        "- Benefits from rock-solid PostgreSQL foundation with enterprise-grade feature liked streaming backups and replication, high-availability and row-level security.\n",
        "- Enables a worry-free experience with enterprise-grade security and compliance.\n",
        "\n",
        "## How to use Timescale Vector\n",
        "Timescale Vector is available on [Timescale](https://www.timescale.com/ai), the cloud PostgreSQL platform. (There is no self-hosted version at this time.)\n",
        "\n",
        "**LlamaIndex users get a 90-day free trial for Timescale Vector.**\n",
        "- To get started, [signup](https://console.cloud.timescale.com/signup?utm_campaign=vectorlaunch&utm_source=llamaindex&utm_medium=referral) to Timescale, create a new database and follow this notebook!\n",
        "- See the [Timescale Vector explainer blog](https://www.timescale.com/blog/how-we-made-postgresql-the-best-vector-database/?utm_campaign=vectorlaunch&utm_source=llamaindex&utm_medium=referral) for details and performance benchmarks.\n",
        "- See the [installation instructions](https://github.com/timescale/python-vector) for more details on using Timescale Vector in python."
      ]
    },
    {
      "cell_type": "markdown",
      "id": "cfb491c6",
      "metadata": {
        "id": "cfb491c6"
      },
      "source": [
        "## Installation"
      ]
    },
    {
      "cell_type": "code",
      "execution_count": null,
      "id": "334dfaba",
      "metadata": {
        "id": "334dfaba",
        "colab": {
          "base_uri": "https://localhost:8080/"
        },
        "outputId": "fc0feb85-ec14-4179-fd9c-538a976a7cb9"
      },
      "outputs": [
        {
          "output_type": "stream",
          "name": "stdout",
          "text": [
            "\u001b[2K     \u001b[90m━━━━━━━━━━━━━━━━━━━━━━━━━━━━━━━━━━━━━━━━\u001b[0m \u001b[32m15.3/15.3 MB\u001b[0m \u001b[31m24.9 MB/s\u001b[0m eta \u001b[36m0:00:00\u001b[0m\n",
            "\u001b[2K     \u001b[90m━━━━━━━━━━━━━━━━━━━━━━━━━━━━━━━━━━━━━━━━\u001b[0m \u001b[32m75.6/75.6 kB\u001b[0m \u001b[31m7.6 MB/s\u001b[0m eta \u001b[36m0:00:00\u001b[0m\n",
            "\u001b[2K     \u001b[90m━━━━━━━━━━━━━━━━━━━━━━━━━━━━━━━━━━━━━━━━\u001b[0m \u001b[32m108.0/108.0 kB\u001b[0m \u001b[31m10.2 MB/s\u001b[0m eta \u001b[36m0:00:00\u001b[0m\n",
            "\u001b[2K     \u001b[90m━━━━━━━━━━━━━━━━━━━━━━━━━━━━━━━━━━━━━━━━\u001b[0m \u001b[32m257.5/257.5 kB\u001b[0m \u001b[31m21.0 MB/s\u001b[0m eta \u001b[36m0:00:00\u001b[0m\n",
            "\u001b[2K     \u001b[90m━━━━━━━━━━━━━━━━━━━━━━━━━━━━━━━━━━━━━━━━\u001b[0m \u001b[32m1.8/1.8 MB\u001b[0m \u001b[31m46.5 MB/s\u001b[0m eta \u001b[36m0:00:00\u001b[0m\n",
            "\u001b[2K     \u001b[90m━━━━━━━━━━━━━━━━━━━━━━━━━━━━━━━━━━━━━━━━\u001b[0m \u001b[32m77.8/77.8 kB\u001b[0m \u001b[31m7.5 MB/s\u001b[0m eta \u001b[36m0:00:00\u001b[0m\n",
            "\u001b[2K     \u001b[90m━━━━━━━━━━━━━━━━━━━━━━━━━━━━━━━━━━━━━━━━\u001b[0m \u001b[32m58.3/58.3 kB\u001b[0m \u001b[31m5.7 MB/s\u001b[0m eta \u001b[36m0:00:00\u001b[0m\n",
            "\u001b[2K     \u001b[90m━━━━━━━━━━━━━━━━━━━━━━━━━━━━━━━━━━━━━━━━\u001b[0m \u001b[32m49.4/49.4 kB\u001b[0m \u001b[31m4.9 MB/s\u001b[0m eta \u001b[36m0:00:00\u001b[0m\n",
            "\u001b[2K     \u001b[90m━━━━━━━━━━━━━━━━━━━━━━━━━━━━━━━━━━━━━━━━\u001b[0m \u001b[32m2.7/2.7 MB\u001b[0m \u001b[31m12.2 MB/s\u001b[0m eta \u001b[36m0:00:00\u001b[0m\n",
            "\u001b[2K     \u001b[90m━━━━━━━━━━━━━━━━━━━━━━━━━━━━━━━━━━━━━━━━\u001b[0m \u001b[32m2.0/2.0 MB\u001b[0m \u001b[31m38.9 MB/s\u001b[0m eta \u001b[36m0:00:00\u001b[0m\n",
            "\u001b[2K     \u001b[90m━━━━━━━━━━━━━━━━━━━━━━━━━━━━━━━━━━━━━━━━\u001b[0m \u001b[32m4.4/4.4 MB\u001b[0m \u001b[31m49.5 MB/s\u001b[0m eta \u001b[36m0:00:00\u001b[0m\n",
            "\u001b[2K     \u001b[90m━━━━━━━━━━━━━━━━━━━━━━━━━━━━━━━━━━━━━━━━\u001b[0m \u001b[32m286.1/286.1 kB\u001b[0m \u001b[31m23.1 MB/s\u001b[0m eta \u001b[36m0:00:00\u001b[0m\n",
            "\u001b[2K     \u001b[90m━━━━━━━━━━━━━━━━━━━━━━━━━━━━━━━━━━━━━━━━\u001b[0m \u001b[32m30.6/30.6 MB\u001b[0m \u001b[31m31.0 MB/s\u001b[0m eta \u001b[36m0:00:00\u001b[0m\n",
            "\u001b[?25h"
          ]
        }
      ],
      "source": [
        "!pip install -q llama-index-embeddings-openai\n",
        "!pip install -q llama-index-vector-stores-timescalevector\n",
        "!pip install -q llama-index"
      ]
    },
    {
      "cell_type": "markdown",
      "source": [
        "# Imports"
      ],
      "metadata": {
        "id": "9i5IMKAhNVP8"
      },
      "id": "9i5IMKAhNVP8"
    },
    {
      "cell_type": "code",
      "execution_count": null,
      "id": "c2d1c538",
      "metadata": {
        "id": "c2d1c538"
      },
      "outputs": [],
      "source": [
        "import openai\n",
        "import os\n",
        "import textwrap\n",
        "import timescale_vector\n",
        "from datetime import datetime, timedelta\n",
        "from llama_index.core import SimpleDirectoryReader\n",
        "from llama_index.core import StorageContext\n",
        "from llama_index.core import VectorStoreIndex\n",
        "from llama_index.core.vector_stores import VectorStoreQuery, MetadataFilters\n",
        "from llama_index.vector_stores.timescalevector import TimescaleVectorStore\n",
        "from timescale_vector import client\n",
        "from typing import List, Tuple"
      ]
    },
    {
      "cell_type": "code",
      "source": [
        "import llama_index.core as li\n",
        "print(li.__version__)"
      ],
      "metadata": {
        "id": "e5aFR07sP7bg",
        "colab": {
          "base_uri": "https://localhost:8080/"
        },
        "outputId": "a7722d12-8159-4155-ca15-298b7c5904cd"
      },
      "id": "e5aFR07sP7bg",
      "execution_count": null,
      "outputs": [
        {
          "output_type": "stream",
          "name": "stdout",
          "text": [
            "0.10.19\n"
          ]
        }
      ]
    },
    {
      "cell_type": "markdown",
      "id": "26c71b6d",
      "metadata": {
        "id": "26c71b6d"
      },
      "source": [
        "### Setup OpenAI API Key & Timescale service URL\n",
        "To create embeddings for documents loaded into the index, let's configure your OpenAI API key:"
      ]
    },
    {
      "cell_type": "code",
      "execution_count": null,
      "id": "67b86621",
      "metadata": {
        "id": "67b86621"
      },
      "outputs": [],
      "source": [
        "# openai.api_key = \"sk-.....\"\n",
        "# TIMESCALE_SERVICE_URL = \"postgres://tsdbadmin:lza0h2jdh74kbsak@<id>.tsdb.cloud.timescale.com:<port>/tsdb?sslmode=require\"\n",
        "from google.colab import userdata\n",
        "TIMESCALE_SERVICE_URL = userdata.get('TIMESCALE_SERVICE_URL')\n",
        "openai.api_key = userdata.get('OPENAI_KEY')"
      ]
    },
    {
      "cell_type": "markdown",
      "id": "9aa5fda2",
      "metadata": {
        "id": "9aa5fda2"
      },
      "source": [
        "# Similarity Search with time-based filtering\n",
        "\n",
        "Time-based vector search functionality is helpful for applications like:\n",
        "- Storing and retrieving LLM response history (e.g. chatbots)\n",
        "- Finding the most recent embeddings that are similar to a query vector (e.g recent news).\n",
        "- Constraining similarity search to a relevant time range (e.g asking time-based questions about a knowledge base)"
      ]
    },
    {
      "cell_type": "markdown",
      "id": "5436fd4b",
      "metadata": {
        "id": "5436fd4b"
      },
      "source": [
        "### Extract content and metadata from git log CSV file"
      ]
    },
    {
      "cell_type": "code",
      "execution_count": null,
      "id": "3fe94773",
      "metadata": {
        "id": "3fe94773"
      },
      "outputs": [],
      "source": [
        "import pandas as pd\n",
        "\n",
        "df = pd.read_csv(\"commit_history.csv\")\n",
        "df.dropna(inplace=True)\n",
        "df = df.astype(str)\n",
        "df = df[:1000]"
      ]
    },
    {
      "cell_type": "code",
      "execution_count": null,
      "id": "eb2c9344",
      "metadata": {
        "id": "eb2c9344",
        "colab": {
          "base_uri": "https://localhost:8080/",
          "height": 493
        },
        "outputId": "c181c894-6b4a-41e7-cd16-9050acff219e"
      },
      "outputs": [
        {
          "output_type": "execute_result",
          "data": {
            "text/plain": [
              "                                      commit  \\\n",
              "0   44e41c12ab25e36c202f58e068ced262eadc8d16   \n",
              "1   e66a40038e3c84fb1a68da67ad71caf75c64a027   \n",
              "2   c6a930897e9f9e9878db031cc7fb6ea79d721a74   \n",
              "\n",
              "                                              author  \\\n",
              "0  Lakshmi Narayanan Sreethar<lakshmi@timescale.com>   \n",
              "1                    Bharathy<satish.8483@gmail.com>   \n",
              "2                  Jan Nidzwetzki<jan@timescale.com>   \n",
              "\n",
              "                             date  \\\n",
              "0   Tue Sep 5 21:03:21 2023 +0530   \n",
              "1   Sat Sep 2 09:24:31 2023 +0530   \n",
              "2  Tue Aug 29 21:13:51 2023 +0200   \n",
              "\n",
              "                                   change summary  \\\n",
              "0            Fix segfault in set_integer_now_func   \n",
              "1  Fix server crash on UPDATE of compressed chunk   \n",
              "2            Use Debian Bookworm for 32-bit tests   \n",
              "\n",
              "                                      change details  \n",
              "0  When an invalid function oid is passed to set_...  \n",
              "1  UPDATE query with system attributes in WHERE c...  \n",
              "2  So far, we have used Debian Buster (10) for ou...  "
            ],
            "text/html": [
              "\n",
              "  <div id=\"df-f09704e7-7271-42b9-b7c9-78813e66fa95\" class=\"colab-df-container\">\n",
              "    <div>\n",
              "<style scoped>\n",
              "    .dataframe tbody tr th:only-of-type {\n",
              "        vertical-align: middle;\n",
              "    }\n",
              "\n",
              "    .dataframe tbody tr th {\n",
              "        vertical-align: top;\n",
              "    }\n",
              "\n",
              "    .dataframe thead th {\n",
              "        text-align: right;\n",
              "    }\n",
              "</style>\n",
              "<table border=\"1\" class=\"dataframe\">\n",
              "  <thead>\n",
              "    <tr style=\"text-align: right;\">\n",
              "      <th></th>\n",
              "      <th>commit</th>\n",
              "      <th>author</th>\n",
              "      <th>date</th>\n",
              "      <th>change summary</th>\n",
              "      <th>change details</th>\n",
              "    </tr>\n",
              "  </thead>\n",
              "  <tbody>\n",
              "    <tr>\n",
              "      <th>0</th>\n",
              "      <td>44e41c12ab25e36c202f58e068ced262eadc8d16</td>\n",
              "      <td>Lakshmi Narayanan Sreethar&lt;lakshmi@timescale.com&gt;</td>\n",
              "      <td>Tue Sep 5 21:03:21 2023 +0530</td>\n",
              "      <td>Fix segfault in set_integer_now_func</td>\n",
              "      <td>When an invalid function oid is passed to set_...</td>\n",
              "    </tr>\n",
              "    <tr>\n",
              "      <th>1</th>\n",
              "      <td>e66a40038e3c84fb1a68da67ad71caf75c64a027</td>\n",
              "      <td>Bharathy&lt;satish.8483@gmail.com&gt;</td>\n",
              "      <td>Sat Sep 2 09:24:31 2023 +0530</td>\n",
              "      <td>Fix server crash on UPDATE of compressed chunk</td>\n",
              "      <td>UPDATE query with system attributes in WHERE c...</td>\n",
              "    </tr>\n",
              "    <tr>\n",
              "      <th>2</th>\n",
              "      <td>c6a930897e9f9e9878db031cc7fb6ea79d721a74</td>\n",
              "      <td>Jan Nidzwetzki&lt;jan@timescale.com&gt;</td>\n",
              "      <td>Tue Aug 29 21:13:51 2023 +0200</td>\n",
              "      <td>Use Debian Bookworm for 32-bit tests</td>\n",
              "      <td>So far, we have used Debian Buster (10) for ou...</td>\n",
              "    </tr>\n",
              "  </tbody>\n",
              "</table>\n",
              "</div>\n",
              "    <div class=\"colab-df-buttons\">\n",
              "\n",
              "  <div class=\"colab-df-container\">\n",
              "    <button class=\"colab-df-convert\" onclick=\"convertToInteractive('df-f09704e7-7271-42b9-b7c9-78813e66fa95')\"\n",
              "            title=\"Convert this dataframe to an interactive table.\"\n",
              "            style=\"display:none;\">\n",
              "\n",
              "  <svg xmlns=\"http://www.w3.org/2000/svg\" height=\"24px\" viewBox=\"0 -960 960 960\">\n",
              "    <path d=\"M120-120v-720h720v720H120Zm60-500h600v-160H180v160Zm220 220h160v-160H400v160Zm0 220h160v-160H400v160ZM180-400h160v-160H180v160Zm440 0h160v-160H620v160ZM180-180h160v-160H180v160Zm440 0h160v-160H620v160Z\"/>\n",
              "  </svg>\n",
              "    </button>\n",
              "\n",
              "  <style>\n",
              "    .colab-df-container {\n",
              "      display:flex;\n",
              "      gap: 12px;\n",
              "    }\n",
              "\n",
              "    .colab-df-convert {\n",
              "      background-color: #E8F0FE;\n",
              "      border: none;\n",
              "      border-radius: 50%;\n",
              "      cursor: pointer;\n",
              "      display: none;\n",
              "      fill: #1967D2;\n",
              "      height: 32px;\n",
              "      padding: 0 0 0 0;\n",
              "      width: 32px;\n",
              "    }\n",
              "\n",
              "    .colab-df-convert:hover {\n",
              "      background-color: #E2EBFA;\n",
              "      box-shadow: 0px 1px 2px rgba(60, 64, 67, 0.3), 0px 1px 3px 1px rgba(60, 64, 67, 0.15);\n",
              "      fill: #174EA6;\n",
              "    }\n",
              "\n",
              "    .colab-df-buttons div {\n",
              "      margin-bottom: 4px;\n",
              "    }\n",
              "\n",
              "    [theme=dark] .colab-df-convert {\n",
              "      background-color: #3B4455;\n",
              "      fill: #D2E3FC;\n",
              "    }\n",
              "\n",
              "    [theme=dark] .colab-df-convert:hover {\n",
              "      background-color: #434B5C;\n",
              "      box-shadow: 0px 1px 3px 1px rgba(0, 0, 0, 0.15);\n",
              "      filter: drop-shadow(0px 1px 2px rgba(0, 0, 0, 0.3));\n",
              "      fill: #FFFFFF;\n",
              "    }\n",
              "  </style>\n",
              "\n",
              "    <script>\n",
              "      const buttonEl =\n",
              "        document.querySelector('#df-f09704e7-7271-42b9-b7c9-78813e66fa95 button.colab-df-convert');\n",
              "      buttonEl.style.display =\n",
              "        google.colab.kernel.accessAllowed ? 'block' : 'none';\n",
              "\n",
              "      async function convertToInteractive(key) {\n",
              "        const element = document.querySelector('#df-f09704e7-7271-42b9-b7c9-78813e66fa95');\n",
              "        const dataTable =\n",
              "          await google.colab.kernel.invokeFunction('convertToInteractive',\n",
              "                                                    [key], {});\n",
              "        if (!dataTable) return;\n",
              "\n",
              "        const docLinkHtml = 'Like what you see? Visit the ' +\n",
              "          '<a target=\"_blank\" href=https://colab.research.google.com/notebooks/data_table.ipynb>data table notebook</a>'\n",
              "          + ' to learn more about interactive tables.';\n",
              "        element.innerHTML = '';\n",
              "        dataTable['output_type'] = 'display_data';\n",
              "        await google.colab.output.renderOutput(dataTable, element);\n",
              "        const docLink = document.createElement('div');\n",
              "        docLink.innerHTML = docLinkHtml;\n",
              "        element.appendChild(docLink);\n",
              "      }\n",
              "    </script>\n",
              "  </div>\n",
              "\n",
              "\n",
              "<div id=\"df-6bff1ea6-ba05-4b34-8787-99a611b3c2f3\">\n",
              "  <button class=\"colab-df-quickchart\" onclick=\"quickchart('df-6bff1ea6-ba05-4b34-8787-99a611b3c2f3')\"\n",
              "            title=\"Suggest charts\"\n",
              "            style=\"display:none;\">\n",
              "\n",
              "<svg xmlns=\"http://www.w3.org/2000/svg\" height=\"24px\"viewBox=\"0 0 24 24\"\n",
              "     width=\"24px\">\n",
              "    <g>\n",
              "        <path d=\"M19 3H5c-1.1 0-2 .9-2 2v14c0 1.1.9 2 2 2h14c1.1 0 2-.9 2-2V5c0-1.1-.9-2-2-2zM9 17H7v-7h2v7zm4 0h-2V7h2v10zm4 0h-2v-4h2v4z\"/>\n",
              "    </g>\n",
              "</svg>\n",
              "  </button>\n",
              "\n",
              "<style>\n",
              "  .colab-df-quickchart {\n",
              "      --bg-color: #E8F0FE;\n",
              "      --fill-color: #1967D2;\n",
              "      --hover-bg-color: #E2EBFA;\n",
              "      --hover-fill-color: #174EA6;\n",
              "      --disabled-fill-color: #AAA;\n",
              "      --disabled-bg-color: #DDD;\n",
              "  }\n",
              "\n",
              "  [theme=dark] .colab-df-quickchart {\n",
              "      --bg-color: #3B4455;\n",
              "      --fill-color: #D2E3FC;\n",
              "      --hover-bg-color: #434B5C;\n",
              "      --hover-fill-color: #FFFFFF;\n",
              "      --disabled-bg-color: #3B4455;\n",
              "      --disabled-fill-color: #666;\n",
              "  }\n",
              "\n",
              "  .colab-df-quickchart {\n",
              "    background-color: var(--bg-color);\n",
              "    border: none;\n",
              "    border-radius: 50%;\n",
              "    cursor: pointer;\n",
              "    display: none;\n",
              "    fill: var(--fill-color);\n",
              "    height: 32px;\n",
              "    padding: 0;\n",
              "    width: 32px;\n",
              "  }\n",
              "\n",
              "  .colab-df-quickchart:hover {\n",
              "    background-color: var(--hover-bg-color);\n",
              "    box-shadow: 0 1px 2px rgba(60, 64, 67, 0.3), 0 1px 3px 1px rgba(60, 64, 67, 0.15);\n",
              "    fill: var(--button-hover-fill-color);\n",
              "  }\n",
              "\n",
              "  .colab-df-quickchart-complete:disabled,\n",
              "  .colab-df-quickchart-complete:disabled:hover {\n",
              "    background-color: var(--disabled-bg-color);\n",
              "    fill: var(--disabled-fill-color);\n",
              "    box-shadow: none;\n",
              "  }\n",
              "\n",
              "  .colab-df-spinner {\n",
              "    border: 2px solid var(--fill-color);\n",
              "    border-color: transparent;\n",
              "    border-bottom-color: var(--fill-color);\n",
              "    animation:\n",
              "      spin 1s steps(1) infinite;\n",
              "  }\n",
              "\n",
              "  @keyframes spin {\n",
              "    0% {\n",
              "      border-color: transparent;\n",
              "      border-bottom-color: var(--fill-color);\n",
              "      border-left-color: var(--fill-color);\n",
              "    }\n",
              "    20% {\n",
              "      border-color: transparent;\n",
              "      border-left-color: var(--fill-color);\n",
              "      border-top-color: var(--fill-color);\n",
              "    }\n",
              "    30% {\n",
              "      border-color: transparent;\n",
              "      border-left-color: var(--fill-color);\n",
              "      border-top-color: var(--fill-color);\n",
              "      border-right-color: var(--fill-color);\n",
              "    }\n",
              "    40% {\n",
              "      border-color: transparent;\n",
              "      border-right-color: var(--fill-color);\n",
              "      border-top-color: var(--fill-color);\n",
              "    }\n",
              "    60% {\n",
              "      border-color: transparent;\n",
              "      border-right-color: var(--fill-color);\n",
              "    }\n",
              "    80% {\n",
              "      border-color: transparent;\n",
              "      border-right-color: var(--fill-color);\n",
              "      border-bottom-color: var(--fill-color);\n",
              "    }\n",
              "    90% {\n",
              "      border-color: transparent;\n",
              "      border-bottom-color: var(--fill-color);\n",
              "    }\n",
              "  }\n",
              "</style>\n",
              "\n",
              "  <script>\n",
              "    async function quickchart(key) {\n",
              "      const quickchartButtonEl =\n",
              "        document.querySelector('#' + key + ' button');\n",
              "      quickchartButtonEl.disabled = true;  // To prevent multiple clicks.\n",
              "      quickchartButtonEl.classList.add('colab-df-spinner');\n",
              "      try {\n",
              "        const charts = await google.colab.kernel.invokeFunction(\n",
              "            'suggestCharts', [key], {});\n",
              "      } catch (error) {\n",
              "        console.error('Error during call to suggestCharts:', error);\n",
              "      }\n",
              "      quickchartButtonEl.classList.remove('colab-df-spinner');\n",
              "      quickchartButtonEl.classList.add('colab-df-quickchart-complete');\n",
              "    }\n",
              "    (() => {\n",
              "      let quickchartButtonEl =\n",
              "        document.querySelector('#df-6bff1ea6-ba05-4b34-8787-99a611b3c2f3 button');\n",
              "      quickchartButtonEl.style.display =\n",
              "        google.colab.kernel.accessAllowed ? 'block' : 'none';\n",
              "    })();\n",
              "  </script>\n",
              "</div>\n",
              "\n",
              "    </div>\n",
              "  </div>\n"
            ],
            "application/vnd.google.colaboratory.intrinsic+json": {
              "type": "dataframe",
              "variable_name": "df",
              "summary": "{\n  \"name\": \"df\",\n  \"rows\": 1000,\n  \"fields\": [\n    {\n      \"column\": \"commit\",\n      \"properties\": {\n        \"dtype\": \"string\",\n        \"num_unique_values\": 1000,\n        \"samples\": [\n          \" 7600896a66e55fd933e81433f1aceecc7ddfc1c6\",\n          \" 1ef515eb7a5ca0c00f78c552ba9f7c20b67423a5\",\n          \" 65b0dda97b11224e79f3aa7580b714337718308c\"\n        ],\n        \"semantic_type\": \"\",\n        \"description\": \"\"\n      }\n    },\n    {\n      \"column\": \"author\",\n      \"properties\": {\n        \"dtype\": \"category\",\n        \"num_unique_values\": 41,\n        \"samples\": [\n          \"Pallavi Sontakke<pallavi@timescale.com>\",\n          \"Markus Engel<engel@sero-systems.de>\",\n          \"Erik Nordstr\\u00f6m<erik@timescale.com>\"\n        ],\n        \"semantic_type\": \"\",\n        \"description\": \"\"\n      }\n    },\n    {\n      \"column\": \"date\",\n      \"properties\": {\n        \"dtype\": \"object\",\n        \"num_unique_values\": 995,\n        \"samples\": [\n          \"Fri Jan 28 13:30:32 2022 +0100\",\n          \"Sat Oct 1 21:19:28 2022 +0200\",\n          \"Tue Sep 13 23:05:30 2022 +0200\"\n        ],\n        \"semantic_type\": \"\",\n        \"description\": \"\"\n      }\n    },\n    {\n      \"column\": \"change summary\",\n      \"properties\": {\n        \"dtype\": \"string\",\n        \"num_unique_values\": 991,\n        \"samples\": [\n          \"Look up compressed column metadata only at planning time\",\n          \"Post-release fixes for 2.9.2\",\n          \"Speed up the dist_copy tests\"\n        ],\n        \"semantic_type\": \"\",\n        \"description\": \"\"\n      }\n    },\n    {\n      \"column\": \"change details\",\n      \"properties\": {\n        \"dtype\": \"string\",\n        \"num_unique_values\": 997,\n        \"samples\": [\n          \"We don't want to support BitmapScans below DecompressChunk as this adds additional complexity to support and there is little benefit in doing so. This fixes a bug that can happen when we have a parameterized BitmapScan that is parameterized on a compressed column and will lead to an execution failure with an error regarding incorrect attribute types in the expression.\",\n          \"In #4199 existing calls of `ereport` were replaced with calls of `write_stderr` to eliminate the use of signal-unsafe calls, in particular calls to `malloc`. Unfortunately, `write_stderr` contains a call to `vfprintf`, which allocates memory as well, occationally causing servers that are shutting down to become unresponsive.  Since the existing signal handlers just called `die` after printing out a useful message, this commit fixes this by using `die` as a signal handler.  Fixes #4200 \",\n          \"Commit 8afdddc2da added the first step for deprecating the old format of Continuous Aggregate but just for PostgreSQL 15 and later versions.  During the extension update we emit a message about the deprecation but this has being emited even if the user is using PostgreSQL versions before 15.  Fixed it by emiting the WARNING just when PostgreSQL version is greater or equal to 15.\"\n        ],\n        \"semantic_type\": \"\",\n        \"description\": \"\"\n      }\n    }\n  ]\n}"
            }
          },
          "metadata": {},
          "execution_count": 6
        }
      ],
      "source": [
        "df.head(3)"
      ]
    },
    {
      "cell_type": "code",
      "execution_count": null,
      "id": "2ef55d54",
      "metadata": {
        "id": "2ef55d54"
      },
      "outputs": [],
      "source": [
        "def create_uuid(date_string: str):\n",
        "    if date_string is None:\n",
        "        return None\n",
        "    time_format = \"%a %b %d %H:%M:%S %Y %z\"\n",
        "    datetime_obj = datetime.strptime(date_string, time_format)\n",
        "    uuid = client.uuid_from_time(datetime_obj)\n",
        "    return str(uuid)\n",
        "\n",
        "def split_name(input_string: str) -> Tuple[str, str]:\n",
        "    if input_string is None:\n",
        "        return None, None\n",
        "    start = input_string.find(\"<\")\n",
        "    end = input_string.find(\">\")\n",
        "    name = input_string[:start].strip()\n",
        "    return name"
      ]
    },
    {
      "cell_type": "code",
      "execution_count": null,
      "id": "2d622744",
      "metadata": {
        "id": "2d622744"
      },
      "outputs": [],
      "source": [
        "def create_date(input_string: str) -> datetime:\n",
        "    if input_string is None:\n",
        "        return None\n",
        "    # Define a dictionary to map month abbreviations to their numerical equivalents\n",
        "    month_dict = {\n",
        "        \"Jan\": \"01\",\n",
        "        \"Feb\": \"02\",\n",
        "        \"Mar\": \"03\",\n",
        "        \"Apr\": \"04\",\n",
        "        \"May\": \"05\",\n",
        "        \"Jun\": \"06\",\n",
        "        \"Jul\": \"07\",\n",
        "        \"Aug\": \"08\",\n",
        "        \"Sep\": \"09\",\n",
        "        \"Oct\": \"10\",\n",
        "        \"Nov\": \"11\",\n",
        "        \"Dec\": \"12\",\n",
        "    }\n",
        "\n",
        "    # Split the input string into its components\n",
        "    components = input_string.split()\n",
        "    # Extract relevant information\n",
        "    day = components[2]\n",
        "    month = month_dict[components[1]]\n",
        "    year = components[4]\n",
        "    time = components[3]\n",
        "    timezone_offset_minutes = int(\n",
        "        components[5]\n",
        "    )  # Convert the offset to minutes\n",
        "    timezone_hours = timezone_offset_minutes // 60  # Calculate the hours\n",
        "    timezone_minutes = (\n",
        "        timezone_offset_minutes % 60\n",
        "    )  # Calculate the remaining minutes\n",
        "    # Create a formatted string for the timestamptz in PostgreSQL format\n",
        "    timestamp_tz_str = (\n",
        "        f\"{year}-{month}-{day} {time}+{timezone_hours:02}{timezone_minutes:02}\"\n",
        "    )\n",
        "    return timestamp_tz_str"
      ]
    },
    {
      "cell_type": "markdown",
      "id": "6fdaf15f",
      "metadata": {
        "id": "6fdaf15f"
      },
      "source": [
        "Next, we'll define a function to create a `TextNode` for each git log entry. We'll use the helper function `create_uuid()` we defined above to create a uuid for each node based on its timestampe. And we'll use the helper functions `create_date()` and `split_name()` above to extract relevant metadata from the git log entry and add them to the node."
      ]
    },
    {
      "cell_type": "code",
      "execution_count": null,
      "id": "626ad668",
      "metadata": {
        "id": "626ad668"
      },
      "outputs": [],
      "source": [
        "from llama_index.core.schema import TextNode, NodeRelationship, RelatedNodeInfo\n",
        "\n",
        "# Create a Node object from a single row of data\n",
        "def create_node(row):\n",
        "    record = row.to_dict()\n",
        "    record_name = split_name(record[\"author\"])\n",
        "    record_content = (\n",
        "        str(record[\"date\"])\n",
        "        + \" \"\n",
        "        + record_name\n",
        "        + \" \"\n",
        "        + str(record[\"change summary\"])\n",
        "        + \" \"\n",
        "        + str(record[\"change details\"])\n",
        "    )\n",
        "    # Can change to TextNode as needed\n",
        "    node = TextNode(\n",
        "        id_=create_uuid(record[\"date\"]),\n",
        "        text=record_content,\n",
        "        metadata={\n",
        "            \"commit\": record[\"commit\"],\n",
        "            \"author\": record_name,\n",
        "            \"date\": create_date(record[\"date\"]),\n",
        "        },\n",
        "    )\n",
        "    return node"
      ]
    },
    {
      "cell_type": "code",
      "execution_count": null,
      "id": "58450993",
      "metadata": {
        "id": "58450993"
      },
      "outputs": [],
      "source": [
        "nodes = [create_node(row) for _, row in df.iterrows()]"
      ]
    },
    {
      "cell_type": "code",
      "source": [
        "nodes[0]"
      ],
      "metadata": {
        "id": "bnQe5nIUQugL",
        "colab": {
          "base_uri": "https://localhost:8080/"
        },
        "outputId": "f9a867d2-a35c-4267-9205-048d891bebf5"
      },
      "id": "bnQe5nIUQugL",
      "execution_count": null,
      "outputs": [
        {
          "output_type": "execute_result",
          "data": {
            "text/plain": [
              "TextNode(id_='8b407680-4c01-11ee-ad79-03d90024f5fc', embedding=None, metadata={'commit': '44e41c12ab25e36c202f58e068ced262eadc8d16', 'author': 'Lakshmi Narayanan Sreethar', 'date': '2023-09-5 21:03:21+0850'}, excluded_embed_metadata_keys=[], excluded_llm_metadata_keys=[], relationships={}, text='Tue Sep 5 21:03:21 2023 +0530 Lakshmi Narayanan Sreethar Fix segfault in set_integer_now_func When an invalid function oid is passed to set_integer_now_func, it finds out that the function oid is invalid but before throwing the error, it calls ReleaseSysCache on an invalid tuple causing a segfault. Fixed that by removing the invalid call to ReleaseSysCache.  Fixes #6037 ', start_char_idx=None, end_char_idx=None, text_template='{metadata_str}\\n\\n{content}', metadata_template='{key}: {value}', metadata_seperator='\\n')"
            ]
          },
          "metadata": {},
          "execution_count": 11
        }
      ]
    },
    {
      "cell_type": "markdown",
      "id": "83c2d55c",
      "metadata": {
        "id": "83c2d55c"
      },
      "source": [
        "Next we'll create vector embeddings of the content of each node so that we can perform similarity search on the text associated with each node. We'll use the `OpenAIEmbedding` model to create the embeddings."
      ]
    },
    {
      "cell_type": "code",
      "execution_count": null,
      "id": "0fa62342",
      "metadata": {
        "id": "0fa62342"
      },
      "outputs": [],
      "source": [
        "# Create embeddings for nodes\n",
        "from llama_index.embeddings.openai import OpenAIEmbedding\n",
        "\n",
        "embedding_model = OpenAIEmbedding()\n",
        "\n",
        "for node in nodes:\n",
        "    node_embedding = embedding_model.get_text_embedding(\n",
        "        node.get_content(metadata_mode=\"all\")\n",
        "    )\n",
        "    node.embedding = node_embedding"
      ]
    },
    {
      "cell_type": "markdown",
      "id": "bf1fc37d",
      "metadata": {
        "id": "bf1fc37d"
      },
      "source": [
        "Let's examine the first node in our collection to see what it looks like."
      ]
    },
    {
      "cell_type": "code",
      "execution_count": null,
      "id": "e99fa068",
      "metadata": {
        "id": "e99fa068",
        "colab": {
          "base_uri": "https://localhost:8080/"
        },
        "outputId": "88f90114-e3d7-4e6f-8f65-ee1e81698e96"
      },
      "outputs": [
        {
          "output_type": "stream",
          "name": "stdout",
          "text": [
            "commit: 44e41c12ab25e36c202f58e068ced262eadc8d16\n",
            "author: Lakshmi Narayanan Sreethar\n",
            "date: 2023-09-5 21:03:21+0850\n",
            "\n",
            "Tue Sep 5 21:03:21 2023 +0530 Lakshmi Narayanan Sreethar Fix segfault in set_integer_now_func When an invalid function oid is passed to set_integer_now_func, it finds out that the function oid is invalid but before throwing the error, it calls ReleaseSysCache on an invalid tuple causing a segfault. Fixed that by removing the invalid call to ReleaseSysCache.  Fixes #6037\n"
          ]
        }
      ],
      "source": [
        "print(nodes[0].get_content(metadata_mode=\"all\"))"
      ]
    },
    {
      "cell_type": "code",
      "execution_count": null,
      "id": "8b9f26ae",
      "metadata": {
        "id": "8b9f26ae",
        "colab": {
          "base_uri": "https://localhost:8080/"
        },
        "outputId": "a7f03d46-9c0e-4b22-cb63-7652b9a91064"
      },
      "outputs": [
        {
          "output_type": "stream",
          "name": "stdout",
          "text": [
            "[-0.005558566655963659, 0.00213569775223732, 0.006601247470825911, -0.02713846229016781, -0.03931984677910805, 0.026074208319187164, -0.02012014202773571, -0.01236835028976202, -0.0418798103928566, -0.0049077901057899, 0.05689441040158272, 0.0069320290349423885, 0.014453711919486523, 0.009161208756268024, 0.0008444814593531191, -0.012979577295482159, -0.002288504270836711, -0.016639744862914085, 0.005418344400823116, -0.0019469365943223238, 0.008851999416947365, 0.01187936868518591, -0.024751082062721252, -0.002849394688382745, 0.0031675919890403748, -0.00027213068096898496, -0.0033815214410424232, -0.039434902369976044, 0.0015217744512483478, -0.01215981412678957, 0.017243782058358192, -0.0230252668261528, -0.017517035827040672, -0.023658065125346184, -0.016150765120983124, -0.025441408157348633, -0.01626581884920597, -0.006105075124651194, -0.000942906946875155, 0.007176519371569157, -0.0015073927352204919, -0.009865916334092617, -0.013037104159593582, -0.024650409817695618, -0.002301088534295559, 0.02713846229016781, -0.00518823554739356, -0.007996282540261745, -0.02308279275894165, 0.005680812057107687, 0.01832241751253605, 0.017761526629328728, -0.019401051104068756, 0.010340516455471516, 0.016237055882811546, 0.004379258956760168, 0.00809695478528738, 0.01833679899573326, -0.012425877153873444, -0.002009856980293989, -0.0007730218931101263, 0.0038471322041004896, -0.018293652683496475, 0.005076776258647442, -0.0042642042972147465, -0.011850605718791485, -0.0017249174416065216, 0.0070974198170006275, -0.003940613940358162, 0.00047325118794105947, 0.024607263505458832, 0.022378085181117058, -0.013518894091248512, 0.004875431302934885, 0.02769935131072998, -0.020307105034589767, -0.006191365886479616, 0.014561574906110764, -0.007273596711456776, -0.02060912363231182, 0.01833679899573326, -0.0027397333178669214, -0.03373970836400986, 0.026289936155080795, -0.001578402821905911, -0.00456262705847621, 0.010685679502785206, 0.008204818703234196, -0.009945016354322433, -0.0008939189137890935, 0.010700060985982418, 0.00042358902283012867, 0.016006946563720703, -0.011016461066901684, 0.001301553100347519, 0.020206432789564133, 0.006241702474653721, 0.009873108007013798, -0.0016566038830205798, -0.009348171763122082, -0.01381372194737196, -0.01686985418200493, 0.007794937118887901, -0.012663177214562893, -0.01646716333925724, -0.01626581884920597, 0.009290644899010658, 0.004012522753328085, -0.005105540156364441, 0.00040336462552659214, -0.028332151472568512, 0.030575713142752647, -0.01702805422246456, -0.024578500539064407, 0.018423089757561684, 7.488649862352759e-05, 0.02075294218957424, -0.01535976491868496, -0.024132665246725082, -0.02391693741083145, 0.03716257959604263, 0.0009163905051536858, 0.021788431331515312, -0.006241702474653721, 0.005055203568190336, -0.01674041897058487, -0.01826488971710205, -0.015100892633199692, -0.02102619595825672, -0.003626012010499835, 0.011318478733301163, 0.03264669328927994, 0.0053392443805933, 0.02279515750706196, 0.011383197270333767, 0.020695414394140244, 0.005008462816476822, 0.018998362123966217, -0.016078855842351913, -0.027656206861138344, -0.00043684724369086325, 0.041448354721069336, -0.02191786654293537, 0.019329143688082695, -0.028720460832118988, 0.04044162854552269, 0.0061949617229402065, 0.009700525552034378, 0.025340735912322998, -0.027684969827532768, -0.0005154977552592754, 0.003088492201641202, -0.008974244818091393, 0.01129690557718277, -0.0052673351019620895, 0.016021328046917915, -0.00034448911901563406, 0.006554506719112396, -0.03333701938390732, -0.01633772812783718, 0.0016449186950922012, 0.012677558697760105, 0.006709110923111439, 0.016136381775140762, 0.011210614815354347, 0.02541264519095421, -0.00947041716426611, -0.015935037285089493, 0.011476678773760796, 0.0192140880972147, 0.008988626301288605, 0.011908132582902908, -0.0033833191264420748, 0.02286706678569317, 0.027339806780219078, 0.025096245110034943, 0.01223172340542078, -0.017071200534701347, -0.014547193422913551, 0.013216876424849033, -0.010613770224153996, -0.007981900125741959, 0.031237276270985603, 0.06552349030971527, -0.012842949479818344, -0.008880763314664364, 0.023514246568083763, 0.0037356731481850147, 0.009477607905864716, 0.003041751217097044, 0.00954232644289732, 0.0030255718156695366, -0.03770908713340759, -0.0018498593708500266, -0.5863173604011536, -0.01292204950004816, 0.001858848030678928, -0.00398016395047307, 0.002585129113867879, 0.011138706468045712, 0.02557084523141384, 0.011491060256958008, -0.029396405443549156, 0.015489201061427593, -0.014532811939716339, 0.04852420091629028, 0.014007875695824623, -0.029856622219085693, -0.01825050823390484, -0.009391317144036293, 0.010218271054327488, 0.001770759467035532, 0.004666895139962435, -0.001449865521863103, -0.020853614434599876, 0.010455570183694363, -0.0106784887611866, -0.00944165326654911, 0.0212994497269392, -0.009003008715808392, 0.011793077923357487, -0.01292204950004816, -0.0007622355478815734, 0.009089299477636814, -0.01360518578439951, 0.005821034777909517, 0.013468557968735695, 0.0026408585254102945, 0.04674085974693298, -0.010973315685987473, -0.049157001078128815, 0.007039892487227917, 0.004321731626987457, 0.030834585428237915, -0.031122220680117607, -0.02680768072605133, 0.0425988994538784, 0.011325669474899769, -0.010771970264613628, -0.0034138804767280817, 0.005677216686308384, -0.02322661131620407, -0.013756194151937962, -0.05134303495287895, 0.02528320997953415, 0.016006946563720703, 0.014388993382453918, 0.03880210220813751, -0.024894900619983673, -0.022579429671168327, 0.006371138617396355, 0.019127797335386276, 0.030403131619095802, 0.0024988381192088127, -0.01868196204304695, 0.042196210473775864, -0.00974367093294859, 0.0036691573914140463, -0.00944165326654911, -0.011972851119935513, 0.0075720190070569515, 0.027440479025244713, 0.036270905286073685, 0.007701455149799585, 0.022147975862026215, 0.021040577441453934, 0.0008211110252887011, -0.012864522635936737, -0.005436321254819632, 0.014144502580165863, 0.011778696440160275, -0.02033586986362934, -0.023514246568083763, 0.006806188262999058, -0.009549517184495926, -0.025944771245121956, 0.017171872779726982, -0.008657845668494701, 0.017315691336989403, 0.020997431129217148, 0.0031693896744400263, -0.003392307786270976, 0.007018319796770811, -0.0034084871876984835, 0.01942981593310833, 0.010103216394782066, -0.001436382532119751, 0.0014184053288772702, 0.025872863829135895, -0.0029248991049826145, -0.014647865667939186, 0.009412890300154686, -0.013590803369879723, -0.03250287473201752, -0.02039339579641819, -0.02837529592216015, -0.021198777481913567, -0.012958004139363766, 0.02183157578110695, 0.038198068737983704, -0.017071200534701347, -0.03080582059919834, 0.0373639240860939, 0.0005990919889882207, -0.004001736640930176, -0.012375541031360626, -0.00916839949786663, -0.011764314956963062, -0.008988626301288605, -0.029367640614509583, 0.025657135993242264, 0.0007509997813031077, 0.007953137159347534, -0.007327528670430183, 0.0051918309181928635, 0.006651583593338728, 0.016179528087377548, -0.023327283561229706, 0.0070722512900829315, -0.008355827070772648, 0.028921805322170258, -0.019659923389554024, -0.02102619595825672, -0.02570028230547905, 0.012972385622560978, -0.006396306678652763, 0.010620960965752602, 0.001077736378647387, 0.023111557587981224, -0.0075001101940870285, 0.029022477567195892, -0.020781705155968666, 0.03529294207692146, -0.012591267935931683, -0.025268826633691788, -0.004990485496819019, -0.006123052444308996, -0.01046995259821415, -0.0016305368626490235, -0.011850605718791485, -0.038140539079904556, -0.0043612816371023655, 0.017258163541555405, -0.002372997347265482, -0.00865065399557352, 0.00433970894664526, -0.04156341031193733, 0.016078855842351913, -0.003221523715183139, -0.004749590530991554, -0.010433997958898544, -0.016093237325549126, 0.006277656648308039, -0.007327528670430183, 0.0077374097891151905, 0.02515377290546894, -0.014252366498112679, 0.02095428667962551, -0.006691133603453636, -0.007694264408200979, -0.010060071013867855, 0.005867775529623032, -0.014885165728628635, -0.03805425018072128, -0.009204354137182236, 0.0025635564234107733, -0.012483404949307442, -0.009204354137182236, -0.010736015625298023, 0.009571089409291744, -0.023543011397123337, -0.007715837098658085, -0.01292204950004816, 0.007126183249056339, 0.02866293303668499, 0.028058897703886032, -0.032761745154857635, -0.012246104888617992, 0.010131980292499065, 0.01735883578658104, 0.01888330653309822, 0.0014552586944773793, 0.013518894091248512, 0.025441408157348633, -0.023600537329912186, 0.010081643238663673, -0.0034696098882704973, -0.010685679502785206, 0.011771505698561668, 0.03756526857614517, -0.004533863160759211, -0.009937825612723827, 0.0037500550970435143, 0.02982785925269127, 0.014525620266795158, 0.0075720190070569515, 0.02908000536262989, -0.012037568725645542, -0.002957258140668273, -0.02419019304215908, 0.001378855318762362, -0.009118063375353813, -0.019242852926254272, -0.023054029792547226, -0.0006350464536808431, -0.014525620266795158, -0.013511703349649906, -0.00589294359087944, 0.009154017083346844, 0.042685192078351974, 0.004328922834247351, 0.01563301868736744, -0.02157270349562168, -0.011109942570328712, -0.005587330553680658, -0.002761306008324027, 0.02887865900993347, 0.005299694370478392, 0.0016080653294920921, -0.008420545607805252, 0.004663299303501844, 0.016855472698807716, 0.02197539433836937, 0.003965782001614571, 0.002577938139438629, 0.013188113458454609, 0.028145188465714455, 0.015144038014113903, 0.04817903786897659, -0.010484334081411362, 0.018207361921668053, -0.012382731772959232, 0.03871581330895424, -0.0027289469726383686, -0.015446055680513382, 0.014288321137428284, 0.02513939142227173, -0.00926188100129366, -0.024362774565815926, -0.02610297128558159, 0.032359056174755096, -0.0025707471650093794, 0.007230451330542564, 0.026218026876449585, -0.008075382560491562, 0.00027752385358326137, -0.003947804681956768, 0.02749800682067871, 0.027598679065704346, 0.014381802640855312, 0.005044417455792427, 0.010354897938668728, 0.019516106694936752, 0.04193733632564545, 0.020163286477327347, 0.011066797189414501, 0.0012377338716760278, -0.011908132582902908, 0.01501460187137127, 0.004702849313616753, 0.018710725009441376, -0.015618638135492802, 0.0013123394455760717, 0.01563301868736744, -0.026635099202394485, -0.022349322214722633, -0.04458358883857727, -0.00019089595298282802, 0.020019469782710075, 0.0115126334130764, 0.019530488178133965, 0.015388528816401958, 0.010110407136380672, -0.021932249888777733, -0.03906097635626793, -0.01977497898042202, 0.04504380747675896, 0.01144072413444519, -0.0014211018569767475, -0.020551595836877823, 0.004185104742646217, 0.0014282928314059973, -0.017718380317091942, -0.020148904994130135, -0.018710725009441376, 0.024334009736776352, 0.015201565809547901, 0.005993616301566362, 0.00944165326654911, -0.005738339386880398, 0.031122220680117607, -0.0027972606476396322, -0.014928311109542847, -0.0065293386578559875, -0.028346532955765724, 0.018566906452178955, -0.014913929626345634, 0.003510957583785057, 0.047229841351509094, -0.012339586392045021, -0.016711654141545296, -0.001000434160232544, -0.009456035681068897, -0.004961722064763308, 0.034631382673978806, -0.00933379027992487, -0.019746216014027596, -0.033595889806747437, 0.010211080312728882, 0.0013896416639909148, -0.0062596797943115234, -0.0013303167652338743, 0.04607929661870003, 0.00888795405626297, -0.020983049646019936, -0.03253163769841194, -0.02515377290546894, 0.011102751828730106, 0.024923663586378098, 0.05076776444911957, 0.004537458531558514, 0.02121315896511078, -0.02155832201242447, 0.007377864792943001, -0.013152158819139004, -0.014482474885880947, 0.03713381290435791, -0.019659923389554024, 0.019170943647623062, 0.013080249540507793, -0.0014525620499625802, -0.01633772812783718, 0.0321289487183094, 0.01702805422246456, 0.03189883753657341, -0.007039892487227917, -0.011052415706217289, -0.014676629565656185, -0.01271351333707571, 0.019257234409451485, 0.021860340610146523, 0.017459508031606674, 0.0033833191264420748, 0.02288144826889038, 0.03885963186621666, 0.03316443786025047, 0.025038719177246094, -0.01790534518659115, -0.02570028230547905, 0.011318478733301163, 0.02321222983300686, 0.012598459608852863, -0.02741171605885029, 0.020163286477327347, 0.00596125703305006, 0.0028260243125259876, 0.021270686760544777, -0.00420308206230402, 0.012102287262678146, -0.01295081339776516, 0.009017390199005604, 0.010110407136380672, 0.009010199457406998, 0.0008269536774605513, -0.005759912077337503, 0.00837740022689104, 0.0008283019415102899, 0.02279515750706196, 0.008010664023458958, -0.012677558697760105, -0.02811642363667488, -0.03443003445863724, 0.027469243854284286, 0.02941078692674637, -0.028231479227542877, -0.02321222983300686, -0.027656206861138344, -0.027871932834386826, -0.02459288202226162, -0.01612200029194355, -0.0013698666589334607, -0.005817439407110214, 0.0022633362095803022, 0.01646716333925724, -0.016797944903373718, 0.0004539256333373487, -0.02597353607416153, 0.016424018889665604, -0.0033905101008713245, -0.0015972789842635393, -0.02459288202226162, 0.01550358347594738, 0.008492454886436462, -0.00031752322684042156, 0.03805425018072128, -0.0036745506804436445, 0.0009914455004036427, -0.0027972606476396322, -0.019113415852189064, -0.04280024394392967, -0.026016680523753166, -0.03477519750595093, 0.011325669474899769, 0.0007981900707818568, 0.021515177562832832, -0.008600317873060703, -0.011174661107361317, 0.02273762971162796, 0.016826709732413292, -0.006061929743736982, 0.02033586986362934, 0.016567837446928024, -0.014151694253087044, 0.006453834008425474, 0.014669438824057579, 0.00954232644289732, 0.008909527212381363, 0.009837153367698193, 0.02349986508488655, 0.028907423838973045, -0.005925302859395742, -0.014583148062229156, -0.012850141152739525, 0.008089764043688774, -0.0023963679559528828, 0.010189507156610489, 0.006371138617396355, -0.002957258140668273, 0.021256305277347565, -0.006076311692595482, 0.012749467976391315, 0.015517964959144592, 0.030288076028227806, 0.0021950225345790386, 0.035177890211343765, 0.012469022534787655, -0.0027523175813257694, -0.024506591260433197, 0.004055668134242296, -0.016452781856060028, 0.03273298218846321, -0.025613991543650627, 0.006353161297738552, 0.008636272512376308, -0.00944165326654911, -0.029094386845827103, -0.0031550079584121704, 0.023945702239871025, -0.017689617350697517, 0.015489201061427593, 0.033250726759433746, -0.008111336268484592, -0.00711180130019784, 0.002405356615781784, -0.01784781739115715, -0.003440846223384142, 0.00015145835641305894, -0.00589294359087944, 0.014827638864517212, -0.039866358041763306, 0.016150765120983124, -0.03535047173500061, -0.03805425018072128, -0.02555646374821663, -0.019329143688082695, -0.00847088173031807, 0.043087881058454514, 0.01839432492852211, -0.010620960965752602, -0.008952672593295574, -0.0265919528901577, -0.0026714198756963015, 0.00954232644289732, -0.029065623879432678, -0.03466014564037323, -0.011627687141299248, 0.03215771168470383, 0.009736480191349983, 0.03051818534731865, -0.013109013438224792, 0.042541373521089554, -0.01702805422246456, 0.0023765929508954287, 0.0028260243125259876, 0.011757123284041882, 0.009427271783351898, -0.012483404949307442, 0.007536064833402634, 0.0003033661632798612, -0.0061014797538518906, -0.014719774946570396, 0.001392338308505714, -0.00404847739264369, 0.02582971751689911, -0.027052171528339386, -0.001359080313704908, -0.017819054424762726, -0.028993714600801468, -0.00323051237501204, -0.00511632626876235, -0.01512965653091669, 0.016078855842351913, -0.027929460629820824, 0.009837153367698193, 0.042483843863010406, 0.0010327931959182024, 0.0070686559192836285, 0.01653907261788845, 0.010110407136380672, -0.028475970029830933, 0.01139757875353098, 0.005353625863790512, 0.002035025041550398, 0.011829032562673092, -0.001578402821905911, -0.006159007083624601, 0.017804671078920364, -0.01721501722931862, 0.010009734891355038, 0.017732763662934303, -0.007036297116428614, -0.010103216394782066, -0.016136381775140762, 0.020292723551392555, -0.029051240533590317, -0.012325204908847809, 0.024722319096326828, -0.031381092965602875, 0.0062345112673938274, -0.03304938226938248, -0.024693556129932404, -0.013806530274450779, 0.00752887362614274, 0.006716301664710045, 6.269566802075133e-05, 0.0212994497269392, -0.007794937118887901, -0.014324275776743889, 8.938065730035305e-05, -0.016567837446928024, 0.027886316180229187, -0.007104610558599234, 0.0375940315425396, 0.033797238022089005, 0.0009707717108540237, -0.04697096720337868, 0.020076995715498924, 0.03287680074572563, 0.006015188992023468, 0.01323125883936882, 0.025685898959636688, 0.010203888639807701, 0.00704348785802722, -0.0073311240412294865, 0.00014943591668270528, -0.032359056174755096, -0.019343525171279907, 0.015661783516407013, 0.019746216014027596, 0.015259092673659325, -0.00937693566083908, -0.011455105617642403, -0.022421229630708694, -0.011196233332157135, -0.012548122555017471, 0.004990485496819019, -0.00819762796163559, -0.0031280419789254665, -0.01292204950004816, 0.03822683170437813, -0.014022257179021835, 0.009988161735236645, 0.020551595836877823, -0.010117597877979279, -0.012569695711135864, -0.021515177562832832, -0.030403131619095802, -0.005990020930767059, -0.025455791503190994, 0.048811838030815125, 0.001882218406535685, -0.026980262249708176, 0.00210154103115201, -0.01051309797912836, -0.015661783516407013, -0.045791659504175186, -0.00826234556734562, 0.04196609929203987, -0.01930037885904312, -0.00995939876884222, 0.020278342068195343, 0.013626758009195328, -0.0018768252339214087, -0.004846667405217886, -0.01715749129652977, -0.0067666382528841496, -0.03629966825246811, 0.002968044485896826, 0.010858261026442051, 0.004163532052189112, -0.002684003906324506, 0.009297835640609264, -0.01612200029194355, -0.019271615892648697, -0.015877509489655495, -0.034487564116716385, 0.009412890300154686, -0.04429595172405243, 0.010599388740956783, -0.030288076028227806, -0.013756194151937962, 0.02997167594730854, 0.021040577441453934, -0.034142401069402695, 0.013619567267596722, 0.04863925650715828, -0.03037436679005623, 0.009384126402437687, 0.00018797465600073338, 0.013058677315711975, -0.03477519750595093, -0.00040089274989441037, -0.020364632830023766, -0.012224532663822174, 0.02495242841541767, -0.009103680960834026, -0.024003228172659874, -0.01701367273926735, 0.023873792961239815, -0.0017941298428922892, 0.019185325130820274, 0.0011739146430045366, 0.0593680813908577, 0.012569695711135864, 0.01302272267639637, -0.03428621590137482, -0.0036853370256721973, 0.03805425018072128, -0.02577218972146511, 4.1403862269362435e-05, 0.0022615385241806507, -0.008722563274204731, 0.008355827070772648, -0.004005332011729479, -0.005515421275049448, 0.00965018942952156, -0.03796795755624771, 0.004149150103330612, -0.003018380841240287, 0.005648452788591385, -0.02342795580625534, -0.015935037285089493, -0.022291794419288635, 0.008535600267350674, -0.0043648770079016685, 0.014475284144282341, -0.01625143736600876, -0.020379014313220978, -0.005511825904250145, 0.01577683724462986, -0.001682670903392136, 0.011555778793990612, -0.011217806488275528, -0.0014975052326917648, -0.002301088534295559, -0.02557084523141384, -0.01997632347047329, -0.00752887362614274, -0.0196311604231596, 0.03839941322803497, -0.011117133311927319, 0.005483062472194433, -0.011965659447014332, -0.023097174242138863, -0.02211921289563179, -0.008621891029179096, -0.02453535608947277, 0.011038033291697502, 0.02968404069542885, -0.002849394688382745, -0.009017390199005604, 0.02549893595278263, 0.0008359422790817916, 0.02079608663916588, -0.004900599364191294, 0.0015253699384629726, 0.015388528816401958, -0.00461655855178833, 0.025383882224559784, 0.012389923445880413, -0.01928599737584591, -0.02500995434820652, 0.003987354692071676, 0.030201785266399384, 0.04147711768746376, -0.011908132582902908, -0.0006606640527024865, -0.006845738273113966, 0.0025365904439240694, -0.015963800251483917, -0.013252831064164639, -0.004868240095674992, 0.0017500856192782521, -0.018437471240758896, 0.001814803690649569, 0.01757456362247467, -0.00011129043559776619, -0.024348391219973564, -0.017416363582015038, -0.01116027869284153, -0.019861269742250443, 0.009297835640609264, 0.005727552808821201, 0.011224997229874134, 0.02521130070090294, -0.023197848349809647, 0.017747145146131516, 0.003007594496011734, -0.0024556927382946014, 0.024017609655857086, -0.004239036235958338, 0.0065688882023096085, -0.012958004139363766, 0.015244711190462112, -0.03025931306183338, 0.008823235519230366, 0.008873572573065758, -0.001706041395664215, 0.026620717719197273, -0.008082573302090168, -0.014518429525196552, -0.018494999036192894, -0.025714663788676262, -0.009420081041753292, -0.0006885288166813552, -0.03287680074572563, -0.017962871119379997, -0.006327993236482143, -0.028073279187083244, -0.008434927091002464, -0.025513317435979843, -0.010505907237529755, -0.004580604378134012, -0.018840162083506584, -0.021601468324661255, -0.04429595172405243, 0.0027415312360972166, 0.0013842484913766384, -0.0017545799491927028, -0.04803521931171417, -0.017473889514803886, -0.01060657948255539, 0.013180921785533428, 0.027986988425254822, 0.1879989206790924, 0.006061929743736982, 0.0033168031368404627, 0.016136381775140762, -0.01171397790312767, -0.0023334475699812174, 0.009182780981063843, -0.011253760196268559, -0.03796795755624771, 0.04340428113937378, -0.011217806488275528, 0.010707251727581024, -0.008082573302090168, -0.0028943377546966076, -0.007421010173857212, 0.010505907237529755, -0.04409460723400116, 0.00604395242407918, -0.053787942975759506, -0.009671762585639954, 0.0331932008266449, -0.003972973208874464, -0.00682056974619627, -0.021687759086489677, 0.025685898959636688, -0.03431498259305954, 0.010700060985982418, 0.009829961694777012, 0.014101357199251652, 0.0053248624317348, -0.023945702239871025, 0.005648452788591385, -0.0007123486720956862, -0.0265919528901577, -0.019386669620871544, -0.0383131206035614, 0.011749932542443275, 0.009218735620379448, 0.01721501722931862, 0.006425070576369762, 0.0020062613766640425, -0.025513317435979843, 0.014798874966800213, -0.017171872779726982, -0.0028440013993531466, 0.03230153024196625, -0.008621891029179096, 0.0013635746436193585, -0.012181387282907963, 0.03880210220813751, -0.04561907798051834, 0.010117597877979279, 0.03184131160378456, 0.01060657948255539, 0.016222672536969185, -0.00947041716426611, -0.013310358859598637, -0.0037500550970435143, 0.022205503657460213, 0.009240307845175266, -0.023888174444437027, 0.03376847133040428, 0.0003047144564334303, 0.008327064104378223, -0.01901274360716343, 0.011203424073755741, -0.029453931376338005, 0.006507765501737595, 0.024276483803987503, -0.04587795212864876, 0.010146361775696278, -0.024549737572669983, 0.004717231262475252, -0.007464155554771423, -0.013123394921422005, -0.00754325557500124, 0.0006943714106455445, 0.008621891029179096, 0.00951356254518032, 0.014144502580165863, -0.004879026673734188, -0.04705725982785225, -0.006439452059566975, 2.1319898223737255e-05, -0.04216744378209114, -0.03520665317773819, 0.02844720520079136, 0.022478757426142693, -0.008801663294434547, -0.006511361338198185, 6.365773515426554e-06, 0.011728360317647457, 0.011167469434440136, -0.005450703203678131, 0.005558566655963659, 0.014202030375599861, -0.0073922467418015, 0.0059324936009943485, -0.02341357432305813, 0.004152745474129915, -0.013324740342795849, 0.054679613560438156, -0.011685214936733246, -0.044756170362234116, -0.00830549094825983, 0.009599853307008743, 0.012591267935931683, 0.0070974198170006275, 0.010117597877979279, -0.027454860508441925, -0.006863715127110481, -0.04993361979722977, -0.011893751099705696, -0.007144160568714142, -0.005080371629446745, 0.026074208319187164, 0.006191365886479616, -0.03244534507393837, 0.0030669195111840963, -0.013202494941651821, 0.02541264519095421, -0.0021410908084362745, 0.023269757628440857, 0.018149834126234055, -0.0016637948574498296, 0.0008885257411748171, -0.010894215665757656, -0.008780090138316154, -0.0053248624317348, -0.04305911809206009, 0.015100892633199692, -0.007456964813172817, 0.011383197270333767, -0.013411031104624271, -0.00802504550665617, -0.0002797710185404867, 0.017517035827040672, 0.00039549957728013396, 0.006306420546025038, -0.008902335539460182, -0.002872765064239502, -0.01702805422246456, -0.012217340990900993, -0.01095174252986908, 0.0020080592948943377, -0.005306885112076998, 0.023816265165805817, 0.0026786108501255512, -0.02114124968647957, 0.007345505524426699, -0.019616778939962387, -0.004073645453900099, 0.014259557239711285, 0.01016793493181467, 0.004098813980817795, -0.010426807217299938, -0.030086731538176537, -0.041247010231018066, 0.005004867445677519, -0.007270001340657473, -0.02184595912694931, 0.01859567128121853, 0.03756526857614517, 0.003471407573670149, -0.031524911522865295, 0.003108267206698656, -0.1846623420715332, -0.005644857417792082, -0.018912071362137794, -0.03460261598229408, 0.026563189923763275, -0.011771505698561668, 0.03100716695189476, 0.000614822085481137, -0.0067630428820848465, -0.019890032708644867, 0.011570160277187824, 0.01825050823390484, -0.049157001078128815, -0.014899547211825848, -0.004235440865159035, -0.014518429525196552, 0.015028984285891056, -0.0010058273328468204, 0.03629966825246811, 0.01799163594841957, 0.018437471240758896, -0.03526417911052704, 0.010275797918438911, 0.009118063375353813, 0.008700991049408913, 0.03198513016104698, -0.0043576862663030624, -0.018293652683496475, -0.00975086260586977, -0.014913929626345634, -0.0034246668219566345, 0.018379943445324898, 0.029799094423651695, 0.002119518117979169, 0.0025096244644373655, -0.0016988504212349653, -0.007701455149799585, 0.00012584077194333076, 0.015460438095033169, -0.005274526309221983, 0.01819298043847084, 0.018509380519390106, -0.006777424365282059, 0.02624678984284401, -0.020206432789564133, 0.01715749129652977, 0.05030754581093788, -0.03707628697156906, 0.011562969535589218, -0.02155832201242447, 0.02824586071074009, -0.02610297128558159, -0.010505907237529755, 0.004181508906185627, 0.021745285019278526, 0.0057635074481368065, 0.015863128006458282, 0.022004157304763794, -0.03135232999920845, -0.0003842637815978378, -0.0008318974287249148, -0.01826488971710205, 0.014870784245431423, -0.0033437691163271666, 0.003221523715183139, -0.005040821619331837, -0.010750397108495235, -0.009549517184495926, -0.008499645628035069, 0.017819054424762726, -0.02101181447505951, -0.011383197270333767, 0.00519902165979147, 0.012418686412274837, 0.00812571868300438, 0.029540222138166428, -0.030920876190066338, 0.009218735620379448, 0.0030327625572681427, -0.005914516281336546, -0.0048610493540763855, 0.04317416995763779, -0.009520753286778927, -0.009204354137182236, -0.002159068128094077, -0.010146361775696278, -0.011354433372616768, -0.01209509652107954, 0.00844211783260107, -0.020637886598706245, 0.01401506643742323, -0.018566906452178955, -0.014288321137428284, -0.010901406407356262, -0.014496857300400734, 0.0041958908550441265, -0.0041922954842448235, -0.008132909424602985, 0.012167004868388176, -0.008528408594429493, -0.016913000494241714, -0.020148904994130135, -0.0027217562310397625, -0.003965782001614571, -0.01244025956839323, 0.0018660388886928558, -0.03667359799146652, -0.0027505196630954742, 0.02012014202773571, 0.01213105022907257, -0.011203424073755741, 0.03184131160378456, 0.009714907966554165, 0.026692625135183334, -0.009722098708152771, 0.002842203713953495, -0.004584199748933315, 0.0067666382528841496, 0.017488272860646248, -0.02059474214911461, 0.04182228073477745, -0.011620496399700642, -0.012059141881763935, 0.023686829954385757, -0.011419150978326797, -0.023312902078032494, -0.09773872792720795, -0.031870074570178986, -0.007866846397519112, 0.02308279275894165, -0.014079784974455833, 0.029885385185480118, 0.0033743304666131735, 0.03368218243122101, -0.007780555170029402, 0.007478537503629923, -0.004879026673734188, -0.044382244348526, -0.0008871774771250784, 0.011764314956963062, -0.0028206310234963894, 0.011972851119935513, -0.021946631371974945, -0.016797944903373718, 0.019099034368991852, 0.03385476395487785, 0.024218956008553505, -0.021342596039175987, 0.01229644101113081, -0.013562040403485298, -0.02708093449473381, -0.003768032416701317, -0.017962871119379997, 0.01756018027663231, 0.005910920910537243, 0.01922846958041191, 0.038341887295246124, 0.003636798355728388, 0.047718822956085205, -0.01229644101113081, -0.03733516111969948, -0.028289005160331726, -0.01764647103846073, 0.0024988381192088127, 0.024679172784090042, -0.04334675520658493, 0.019170943647623062, 0.008844808675348759, 0.009218735620379448, 0.0055945212952792645, -0.023197848349809647, 0.005346435122191906, -0.022852685302495956, 0.03768032416701317, 0.04639569669961929, -0.015446055680513382, -0.03983759507536888, 0.027311043813824654, -0.0003622416697908193, -0.020551595836877823, 0.0035666869953274727, -0.007464155554771423, 0.03388352692127228, 0.005278121680021286, -0.008485263213515282, -0.007284383289515972, 0.007830891758203506, -0.0017195242689922452, 0.015661783516407013, 0.009772434830665588, -0.026908352971076965, 0.010060071013867855, 0.0007509997813031077, -0.03178378567099571, 0.030920876190066338, -0.017588945105671883, -0.017545798793435097, 0.022306175902485847, -0.02548455446958542, 0.009391317144036293, -0.019099034368991852, 0.0038507275748997927, -3.176917743985541e-05, -0.027886316180229187, 0.033250726759433746, -0.0106784887611866, -0.02095428667962551, -0.017732763662934303, -0.021961012855172157, 0.01686985418200493, 0.011088370345532894, 0.014259557239711285, 0.009290644899010658, 0.021515177562832832, 0.04800645634531975, -0.019199706614017487, -0.0036655620206147432, 0.005450703203678131, 0.004677681252360344, -0.00469925394281745, 0.010829497128725052, 0.039981409907341, 0.0038615139201283455, 0.014899547211825848, 0.011591733433306217, -0.01605009101331234, -0.05462208762764931, 0.0014103155117481947, -0.08744136244058609, 0.047920167446136475, 0.011965659447014332, 0.0025527700781822205, 0.0027523175813257694, 0.00865065399557352, 0.002888944698497653, -0.03025931306183338, -0.01339664962142706, 0.024161428213119507, -0.019588015973567963, 0.02480860985815525, 0.004559031687676907, -0.0010327931959182024, -0.0027666992973536253, -0.02495242841541767, 0.026361843571066856, 0.011131515726447105, 0.03865828737616539, -0.0014822245575487614, -0.003717696061357856, -0.014460902661085129, -0.040412865579128265, 0.03253163769841194, 0.005159471649676561, -0.031668730080127716, 0.005727552808821201, -0.002658835845068097, 0.008046618662774563, -0.014597529545426369, 0.00995939876884222, -0.045504022389650345, 0.013770575635135174, 0.028835514560341835, 0.00213569775223732, -0.02466479130089283, 0.005472275894135237, 0.0036278096958994865, 0.03750774264335632, 0.008614699356257915, -0.01937228813767433, -0.015949418768286705, -0.008578745648264885, 0.0034857895225286484, 0.011433533392846584, -0.01384967565536499, -0.025987917557358742, 0.0098155802115798, 0.013597994111478329, 0.0038974685594439507, 0.024693556129932404, 0.009283453226089478, -0.022579429671168327, 0.0008970649214461446, -0.004519481677561998, -0.013303167186677456, 0.005785080138593912, 0.01652469113469124, -0.012540931813418865, -0.027814406901597977, 0.036961231380701065, -0.012253295630216599, 0.02137135900557041, -0.028217097744345665, 0.013375076465308666, 0.002365806605666876, 0.00012516662536654621, 0.0042642042972147465, 0.024621646851301193, 0.028058897703886032, -0.019947560504078865, -0.013914394192397594, 0.020436542108654976, 0.008089764043688774, -0.00017010976443998516, 0.010700060985982418, -0.018480615690350533, -0.0075720190070569515, -0.010211080312728882, 0.0009824568405747414, 0.018106689676642418, -0.036270905286073685, -0.0139503488317132, -0.021313831210136414, 0.011900941841304302, -0.011109942570328712, 0.0026480494998395443, -0.0012952610850334167, -0.014870784245431423, -0.013353504240512848, -0.03949243202805519, 0.010865451768040657, -0.012174195609986782, -0.007273596711456776, 0.004415213596075773, 0.016481546685099602, 0.001290766755118966, 0.013425412587821484, 0.006015188992023468, -0.0048574539832770824, 0.0066695609129965305, -0.0042893728241324425, -0.023543011397123337, -0.02541264519095421, -0.022493138909339905, -0.007658309768885374, -0.01990441419184208, -0.02086799591779709, -0.00754325557500124, -0.008909527212381363, 0.022435612976551056, 0.014065403491258621, -0.0030866945162415504, 0.026275552809238434, -0.02141450345516205, 0.002984224120154977, 0.022752011194825172, -0.004577008541673422, -0.004641726613044739, 0.023859411478042603, 0.005479466635733843, 0.01730130799114704, 0.03405610844492912, 0.007485728245228529, 0.024147046729922295, 0.011016461066901684, 0.030000440776348114, -0.022651338949799538, 0.008190436288714409, -0.03037436679005623, 0.011850605718791485, -0.005439917091280222, -0.013260021805763245, -0.011965659447014332, -0.028691696003079414, -0.0005986425094306469, -0.038140539079904556, 0.020450923591852188, -0.005181044340133667, 0.07380741089582443, 0.003706909716129303, -0.020580358803272247, -0.03897468373179436, 0.018106689676642418, -0.006806188262999058, 0.018351180478930473, -0.002155472757294774, 0.02824586071074009, -0.028058897703886032, 0.023240992799401283, 0.001966711599379778, 0.012512167915701866, 0.0027109698858112097, -0.01146948803216219, -0.008801663294434547, 0.0017312094569206238, 0.0282602421939373, -0.010728824883699417, 0.007021915167570114, 0.021745285019278526, 0.00909649021923542, 0.018624434247612953, 0.018509380519390106, 0.004084432031959295, -0.004990485496819019, 0.030000440776348114, -0.003403094131499529, -0.006079907063394785, -0.04360562562942505, -0.000510104582644999, -0.012490595690906048, 0.011340051889419556, -0.00725202402099967, 0.007428200915455818, -0.022291794419288635, -0.0009644796373322606, 0.0010211080079898238, 0.005242167040705681, 0.010239843279123306, -0.012246104888617992, 0.011239378713071346, -0.048322856426239014, -0.020235195755958557, 0.016625363379716873, -0.02397446520626545, 0.01859567128121853, 0.002085361396893859, -0.022076066583395004]\n"
          ]
        }
      ],
      "source": [
        "print(nodes[0].get_embedding())"
      ]
    },
    {
      "cell_type": "code",
      "source": [
        "len(nodes[0].get_embedding())"
      ],
      "metadata": {
        "colab": {
          "base_uri": "https://localhost:8080/"
        },
        "id": "HTCiZSueDuYp",
        "outputId": "419e182f-ed4a-4603-8415-e01ce1a87dac"
      },
      "id": "HTCiZSueDuYp",
      "execution_count": null,
      "outputs": [
        {
          "output_type": "execute_result",
          "data": {
            "text/plain": [
              "1536"
            ]
          },
          "metadata": {},
          "execution_count": 15
        }
      ]
    },
    {
      "cell_type": "markdown",
      "id": "47b9f7ee",
      "metadata": {
        "id": "47b9f7ee"
      },
      "source": [
        "### Load documents and metadata into TimescaleVector vectorstore\n",
        "Now that we have prepared our nodes and added embeddings to them, let's add them into our TimescaleVector vectorstore.\n",
        "\n",
        "We'll create a Timescale Vector instance from the list of nodes we created.\n",
        "\n",
        "First, we'll define a collection name, which will be the name of our table in the PostgreSQL database.\n",
        "\n",
        "We'll also define a time delta, which we pass to the `time_partition_interval` argument, which will be used to as the interval for partitioning the data by time. Each partition will consist of data for the specified length of time. We'll use 7 days for simplicity, but you can pick whatever value make sense for your use case -- for example if you query recent vectors frequently you might want to use a smaller time delta like 1 day, or if you query vectors over a decade long time period then you might want to use a larger time delta like 6 months or 1 year.\n",
        "\n",
        "Then we'll add the nodes to the Timescale Vector vectorstore."
      ]
    },
    {
      "cell_type": "code",
      "execution_count": null,
      "id": "db159054",
      "metadata": {
        "id": "db159054"
      },
      "outputs": [],
      "source": [
        "# Create a timescale vector store and add the newly created nodes to it\n",
        "ts_vector_store = TimescaleVectorStore.from_params(\n",
        "    service_url=TIMESCALE_SERVICE_URL,\n",
        "    table_name=\"li_commit_history\",\n",
        "    time_partition_interval=timedelta(days=7),\n",
        ")\n",
        "_ = ts_vector_store.add(nodes)"
      ]
    },
    {
      "cell_type": "markdown",
      "id": "a44793e3",
      "metadata": {
        "id": "a44793e3"
      },
      "source": [
        "### Querying vectors by time and similarity\n",
        "\n",
        "Now that we have loaded our documents into TimescaleVector, we can query them by time and similarity.\n",
        "\n",
        "TimescaleVector provides multiple methods for querying vectors by doing similarity search with time-based filtering Let's take a look at each method below.\n",
        "\n",
        "First we define a query string and get the vector embedding for the query string."
      ]
    },
    {
      "cell_type": "code",
      "execution_count": null,
      "id": "2984d681",
      "metadata": {
        "id": "2984d681"
      },
      "outputs": [],
      "source": [
        "# Define query and generate embedding for it\n",
        "query_str = \"What's new with TimescaleDB functions?\"\n",
        "embed_model = OpenAIEmbedding()\n",
        "query_embedding = embed_model.get_query_embedding(query_str)"
      ]
    },
    {
      "cell_type": "markdown",
      "id": "317d302e",
      "metadata": {
        "id": "317d302e"
      },
      "source": [
        "Then we set some variables which we'll use in our time filters."
      ]
    },
    {
      "cell_type": "code",
      "execution_count": null,
      "id": "a05a9597",
      "metadata": {
        "id": "a05a9597"
      },
      "outputs": [],
      "source": [
        "# Time filter variables for query\n",
        "start_dt = datetime(\n",
        "    2023, 8, 1, 22, 10, 35\n",
        ")  # Start date = 1 August 2023, 22:10:35\n",
        "end_dt = datetime(\n",
        "    2023, 8, 30, 22, 10, 35\n",
        ")  # End date = 30 August 2023, 22:10:35\n",
        "td = timedelta(days=7)  # Time delta = 7 days"
      ]
    },
    {
      "cell_type": "markdown",
      "id": "374662b5",
      "metadata": {
        "id": "374662b5"
      },
      "source": [
        "Method 1: Filter within a provided start date and end date."
      ]
    },
    {
      "cell_type": "code",
      "execution_count": null,
      "id": "b92bf8a1",
      "metadata": {
        "id": "b92bf8a1",
        "colab": {
          "base_uri": "https://localhost:8080/"
        },
        "outputId": "de495bd5-fb86-413e-fbf5-93793121165b"
      },
      "outputs": [
        {
          "output_type": "execute_result",
          "data": {
            "text/plain": [
              "VectorStoreQueryResult(nodes=[TextNode(id_='22747180-31f1-11ee-b8b6-3da627e2841c', embedding=None, metadata={'commit': ' 7aeed663b9c0f337b530fd6cad47704a51a9b2ec', 'author': 'Dmitry Simonenko', 'date': '2023-08-3 14:30:23+0500'}, excluded_embed_metadata_keys=[], excluded_llm_metadata_keys=[], relationships={}, text='Thu Aug 3 14:30:23 2023 +0300 Dmitry Simonenko Feature flags for TimescaleDB features This PR adds several GUCs which allow to enable/disable major timescaledb features:  - enable_hypertable_create - enable_hypertable_compression - enable_cagg_create - enable_policy_create', start_char_idx=None, end_char_idx=None, text_template='{metadata_str}\\n\\n{content}', metadata_template='{key}: {value}', metadata_seperator='\\n'), TextNode(id_='22747180-31f1-11ee-97fb-e8b8c6e661f5', embedding=None, metadata={'commit': ' 7aeed663b9c0f337b530fd6cad47704a51a9b2ec', 'author': 'Dmitry Simonenko', 'date': '2023-08-3 14:30:23+0500'}, excluded_embed_metadata_keys=[], excluded_llm_metadata_keys=[], relationships={}, text='Thu Aug 3 14:30:23 2023 +0300 Dmitry Simonenko Feature flags for TimescaleDB features This PR adds several GUCs which allow to enable/disable major timescaledb features:  - enable_hypertable_create - enable_hypertable_compression - enable_cagg_create - enable_policy_create', start_char_idx=None, end_char_idx=None, text_template='{metadata_str}\\n\\n{content}', metadata_template='{key}: {value}', metadata_seperator='\\n'), TextNode(id_='22747180-31f1-11ee-99f4-0ca8d5262d9f', embedding=None, metadata={'commit': ' 7aeed663b9c0f337b530fd6cad47704a51a9b2ec', 'author': 'Dmitry Simonenko', 'date': '2023-08-3 14:30:23+0500'}, excluded_embed_metadata_keys=[], excluded_llm_metadata_keys=[], relationships={}, text='Thu Aug 3 14:30:23 2023 +0300 Dmitry Simonenko Feature flags for TimescaleDB features This PR adds several GUCs which allow to enable/disable major timescaledb features:  - enable_hypertable_create - enable_hypertable_compression - enable_cagg_create - enable_policy_create', start_char_idx=None, end_char_idx=None, text_template='{metadata_str}\\n\\n{content}', metadata_template='{key}: {value}', metadata_seperator='\\n'), TextNode(id_='faa8ea00-4686-11ee-a44a-36e4675d2e73', embedding=None, metadata={'commit': ' e4facda540286b0affba47ccc63959fefe2a7b26', 'author': 'Sven Klemm', 'date': '2023-08-29 18:13:24+0320'}, excluded_embed_metadata_keys=[], excluded_llm_metadata_keys=[], relationships={}, text='Tue Aug 29 18:13:24 2023 +0200 Sven Klemm Add compatibility layer for _timescaledb_internal functions With timescaledb 2.12 all the functions present in _timescaledb_internal were moved into the _timescaledb_functions schema to improve schema security. This patch adds a compatibility layer so external callers of these internal functions will not break and allow for more flexibility when migrating.', start_char_idx=None, end_char_idx=None, text_template='{metadata_str}\\n\\n{content}', metadata_template='{key}: {value}', metadata_seperator='\\n'), TextNode(id_='faa8ea00-4686-11ee-bcc4-19385cf0aeec', embedding=None, metadata={'commit': ' e4facda540286b0affba47ccc63959fefe2a7b26', 'author': 'Sven Klemm', 'date': '2023-08-29 18:13:24+0320'}, excluded_embed_metadata_keys=[], excluded_llm_metadata_keys=[], relationships={}, text='Tue Aug 29 18:13:24 2023 +0200 Sven Klemm Add compatibility layer for _timescaledb_internal functions With timescaledb 2.12 all the functions present in _timescaledb_internal were moved into the _timescaledb_functions schema to improve schema security. This patch adds a compatibility layer so external callers of these internal functions will not break and allow for more flexibility when migrating.', start_char_idx=None, end_char_idx=None, text_template='{metadata_str}\\n\\n{content}', metadata_template='{key}: {value}', metadata_seperator='\\n')], similarities=[0.18157108269422007, 0.18169109384800664, 0.18169109384800664, 0.18218186220251342, 0.18218186220251342], ids=[UUID('22747180-31f1-11ee-b8b6-3da627e2841c'), UUID('22747180-31f1-11ee-97fb-e8b8c6e661f5'), UUID('22747180-31f1-11ee-99f4-0ca8d5262d9f'), UUID('faa8ea00-4686-11ee-a44a-36e4675d2e73'), UUID('faa8ea00-4686-11ee-bcc4-19385cf0aeec')])"
            ]
          },
          "metadata": {},
          "execution_count": 19
        }
      ],
      "source": [
        "# Query the vector database\n",
        "vector_store_query = VectorStoreQuery(\n",
        "    query_embedding=query_embedding, similarity_top_k=5\n",
        ")\n",
        "\n",
        "# return most similar vectors to query between start date and end date date range\n",
        "# returns a VectorStoreQueryResult object\n",
        "query_result = ts_vector_store.query(\n",
        "    vector_store_query, start_date=start_dt, end_date=end_dt\n",
        ")\n",
        "query_result"
      ]
    },
    {
      "cell_type": "markdown",
      "id": "7f6f2825",
      "metadata": {
        "id": "7f6f2825"
      },
      "source": [
        "Let's inspect the nodes that were returned from the similarity search:"
      ]
    },
    {
      "cell_type": "code",
      "execution_count": null,
      "id": "993e8cf9",
      "metadata": {
        "id": "993e8cf9",
        "colab": {
          "base_uri": "https://localhost:8080/"
        },
        "outputId": "e9365d46-8e09-4772-b084-5b95fe10dd25"
      },
      "outputs": [
        {
          "output_type": "stream",
          "name": "stdout",
          "text": [
            "--------------------------------------------------------------------------------\n",
            "2023-08-3 14:30:23+0500\n",
            "commit:  7aeed663b9c0f337b530fd6cad47704a51a9b2ec\n",
            "author: Dmitry Simonenko\n",
            "date: 2023-08-3 14:30:23+0500\n",
            "\n",
            "Thu Aug 3 14:30:23 2023 +0300 Dmitry Simonenko Feature flags for TimescaleDB features This PR adds several GUCs which allow to enable/disable major timescaledb features:  - enable_hypertable_create - enable_hypertable_compression - enable_cagg_create - enable_policy_create\n",
            "--------------------------------------------------------------------------------\n",
            "2023-08-3 14:30:23+0500\n",
            "commit:  7aeed663b9c0f337b530fd6cad47704a51a9b2ec\n",
            "author: Dmitry Simonenko\n",
            "date: 2023-08-3 14:30:23+0500\n",
            "\n",
            "Thu Aug 3 14:30:23 2023 +0300 Dmitry Simonenko Feature flags for TimescaleDB features This PR adds several GUCs which allow to enable/disable major timescaledb features:  - enable_hypertable_create - enable_hypertable_compression - enable_cagg_create - enable_policy_create\n",
            "--------------------------------------------------------------------------------\n",
            "2023-08-3 14:30:23+0500\n",
            "commit:  7aeed663b9c0f337b530fd6cad47704a51a9b2ec\n",
            "author: Dmitry Simonenko\n",
            "date: 2023-08-3 14:30:23+0500\n",
            "\n",
            "Thu Aug 3 14:30:23 2023 +0300 Dmitry Simonenko Feature flags for TimescaleDB features This PR adds several GUCs which allow to enable/disable major timescaledb features:  - enable_hypertable_create - enable_hypertable_compression - enable_cagg_create - enable_policy_create\n",
            "--------------------------------------------------------------------------------\n",
            "2023-08-29 18:13:24+0320\n",
            "commit:  e4facda540286b0affba47ccc63959fefe2a7b26\n",
            "author: Sven Klemm\n",
            "date: 2023-08-29 18:13:24+0320\n",
            "\n",
            "Tue Aug 29 18:13:24 2023 +0200 Sven Klemm Add compatibility layer for _timescaledb_internal functions With timescaledb 2.12 all the functions present in _timescaledb_internal were moved into the _timescaledb_functions schema to improve schema security. This patch adds a compatibility layer so external callers of these internal functions will not break and allow for more flexibility when migrating.\n",
            "--------------------------------------------------------------------------------\n",
            "2023-08-29 18:13:24+0320\n",
            "commit:  e4facda540286b0affba47ccc63959fefe2a7b26\n",
            "author: Sven Klemm\n",
            "date: 2023-08-29 18:13:24+0320\n",
            "\n",
            "Tue Aug 29 18:13:24 2023 +0200 Sven Klemm Add compatibility layer for _timescaledb_internal functions With timescaledb 2.12 all the functions present in _timescaledb_internal were moved into the _timescaledb_functions schema to improve schema security. This patch adds a compatibility layer so external callers of these internal functions will not break and allow for more flexibility when migrating.\n"
          ]
        }
      ],
      "source": [
        "# for each node in the query result, print the node metadata date\n",
        "for node in query_result.nodes:\n",
        "    print(\"-\" * 80)\n",
        "    print(node.metadata[\"date\"])\n",
        "    print(node.get_content(metadata_mode=\"all\"))"
      ]
    },
    {
      "cell_type": "markdown",
      "source": [
        "## RAG Application"
      ],
      "metadata": {
        "id": "zcPj5s5r0i8Y"
      },
      "id": "zcPj5s5r0i8Y"
    },
    {
      "cell_type": "code",
      "source": [
        "index = VectorStoreIndex.from_vector_store(ts_vector_store)\n",
        "query_engine = index.as_query_engine(vector_store_kwargs = ({\"start_date\": start_dt,\n",
        "                                                             \"end_date\":end_dt}))\n",
        "\n",
        "query_str = \"What's new with TimescaleDB functions? When were these changes made and by whom?\"\n",
        "response = query_engine.query(query_str)\n",
        "print(str(response))"
      ],
      "metadata": {
        "id": "MJwpodLDFT_I",
        "colab": {
          "base_uri": "https://localhost:8080/"
        },
        "outputId": "bbd8f291-7f58-46a2-c555-de0a68b82bd4"
      },
      "id": "MJwpodLDFT_I",
      "execution_count": null,
      "outputs": [
        {
          "output_type": "stream",
          "name": "stdout",
          "text": [
            "The new feature added to TimescaleDB functions is the implementation of several GUCs that enable or disable major TimescaleDB features. These changes were made on August 3, 2023, by Dmitry Simonenko.\n"
          ]
        }
      ]
    },
    {
      "cell_type": "code",
      "source": [
        "from pprint import pprint"
      ],
      "metadata": {
        "id": "-bBTlkTGyrmo"
      },
      "id": "-bBTlkTGyrmo",
      "execution_count": null,
      "outputs": []
    },
    {
      "cell_type": "code",
      "source": [
        "pprint(str(response))"
      ],
      "metadata": {
        "colab": {
          "base_uri": "https://localhost:8080/"
        },
        "id": "01Ep0h1Z1CsJ",
        "outputId": "e8d5e777-dafb-4d6a-8d40-672c8f56774c"
      },
      "id": "01Ep0h1Z1CsJ",
      "execution_count": null,
      "outputs": [
        {
          "output_type": "stream",
          "name": "stdout",
          "text": [
            "('The new feature added to TimescaleDB functions is the implementation of '\n",
            " 'several GUCs that enable or disable major TimescaleDB features. These '\n",
            " 'changes were made on August 3, 2023, by Dmitry Simonenko.')\n"
          ]
        }
      ]
    },
    {
      "cell_type": "code",
      "source": [],
      "metadata": {
        "id": "V-5ATUeZ1ECE"
      },
      "id": "V-5ATUeZ1ECE",
      "execution_count": null,
      "outputs": []
    }
  ],
  "metadata": {
    "kernelspec": {
      "display_name": "Python 3 (ipykernel)",
      "language": "python",
      "name": "python3"
    },
    "language_info": {
      "codemirror_mode": {
        "name": "ipython",
        "version": 3
      },
      "file_extension": ".py",
      "mimetype": "text/x-python",
      "name": "python",
      "nbconvert_exporter": "python",
      "pygments_lexer": "ipython3"
    },
    "colab": {
      "provenance": []
    }
  },
  "nbformat": 4,
  "nbformat_minor": 5
}